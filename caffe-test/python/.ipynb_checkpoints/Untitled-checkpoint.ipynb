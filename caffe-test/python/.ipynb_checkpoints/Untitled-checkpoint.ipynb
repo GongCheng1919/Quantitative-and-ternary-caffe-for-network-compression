{
 "cells": [
  {
   "cell_type": "code",
   "execution_count": 23,
   "metadata": {},
   "outputs": [],
   "source": [
    "import numpy as np\n",
    "%matplotlib inline\n",
    "import matplotlib.pyplot as plt\n",
    "import os,sys,caffe\n",
    "import os"
   ]
  },
  {
   "cell_type": "code",
   "execution_count": 24,
   "metadata": {},
   "outputs": [
    {
     "data": {
      "image/png": "[encoded data removed]",
      "text/plain": [
       "<Figure size 432x288 with 1 Axes>"
      ]
     },
     "metadata": {},
     "output_type": "display_data"
    }
   ],
   "source": [
    "x=[1,2,3]\n",
    "plt.plot(x,x)\n",
    "plt.show()"
   ]
  },
  {
   "cell_type": "code",
   "execution_count": 12,
   "metadata": {},
   "outputs": [
    {
     "name": "stdout",
     "output_type": "stream",
     "text": [
      "('/home/gongcheng/lab/caffe/examples/mnist/lenet.prototxt', '/home/gongcheng/lab/caffe/examples/mnist/model/lenet_iter_10000.caffemodel')\n"
     ]
    }
   ],
   "source": [
    "CAFFE_ROOT='/home/gongcheng/lab/caffe'\n",
    "deploy_file_name='lenet.prototxt'\n",
    "model_file_name='lenet_iter_10000.caffemodel'\n",
    "deploy_file = CAFFE_ROOT + '/examples/mnist/' + deploy_file_name\n",
    "model_file  = CAFFE_ROOT + '/examples/mnist/model/' + model_file_name\n",
    "print(deploy_file,model_file)"
   ]
  },
  {
   "cell_type": "code",
   "execution_count": 6,
   "metadata": {},
   "outputs": [],
   "source": [
    "os.chdir(CAFFE_ROOT)\n",
    "sys.path.insert(0,CAFFE_ROOT+'python')"
   ]
  },
  {
   "cell_type": "code",
   "execution_count": 13,
   "metadata": {},
   "outputs": [],
   "source": [
    "net = caffe.Net(deploy_file,\n",
    "                model_file,\n",
    "                caffe.TEST)"
   ]
  },
  {
   "cell_type": "code",
   "execution_count": 15,
   "metadata": {},
   "outputs": [
    {
     "data": {
      "text/plain": [
       "[('conv1', (20, 1, 5, 5)),\n",
       " ('conv2', (50, 20, 5, 5)),\n",
       " ('ip1', (500, 800)),\n",
       " ('ip2', (10, 500))]"
      ]
     },
     "execution_count": 15,
     "metadata": {},
     "output_type": "execute_result"
    }
   ],
   "source": [
    "[(k, v[0].data.shape) for k, v in net.params.items()]\n"
   ]
  },
  {
   "cell_type": "code",
   "execution_count": 51,
   "metadata": {},
   "outputs": [],
   "source": [
    "#编写一个函数，用于显示各层的参数\n",
    "def show_feature(data, padsize=1, padval=0):\n",
    "    data -= data.min()\n",
    "    data /= data.max()\n",
    "    \n",
    "    # force the number of filters to be square\n",
    "    n = int(np.ceil(np.sqrt(data.shape[0])))\n",
    "    padding = ((0, n ** 2 - data.shape[0]), (0, padsize), (0, padsize)) + ((0, 0),) * (data.ndim - 3)\n",
    "    data = np.pad(data, padding, mode='constant', constant_values=(padval, padval))\n",
    "    \n",
    "    # tile the filters into an image\n",
    "    data = data.reshape((n, n) + data.shape[1:]).transpose((0, 2, 1, 3) + tuple(range(4, data.ndim + 1)))\n",
    "    print((n * data.shape[1], n * data.shape[3]))\n",
    "    print(data.shape[4:])\n",
    "    data = data.reshape((n * data.shape[1], n * data.shape[3]))\n",
    "    plt.imshow(data)\n",
    "    plt.axis('off')"
   ]
  },
  {
   "cell_type": "code",
   "execution_count": 52,
   "metadata": {},
   "outputs": [
    {
     "name": "stdout",
     "output_type": "stream",
     "text": [
      "(20, 1, 5, 5)\n",
      "(30, 30)\n",
      "(1,)\n"
     ]
    },
    {
     "data": {
      "image/png": "[encoded data removed]",
      "text/plain": [
       "<Figure size 432x288 with 1 Axes>"
      ]
     },
     "metadata": {},
     "output_type": "display_data"
    }
   ],
   "source": [
    "# 第一个卷积层，参数规模为(32,3,5,5)，即32个5*5的3通道filter\n",
    "weight = net.params[\"conv1\"][0].data\n",
    "print weight.shape\n",
    "show_feature(weight.transpose(0, 2, 3, 1))"
   ]
  },
  {
   "cell_type": "code",
   "execution_count": null,
   "metadata": {},
   "outputs": [],
   "source": [
    "#查看twns的权值\n",
    "CAFFE_ROOT='/home/gongcheng/lab/caffe'\n",
    "deploy_file_name='lenet.prototxt'\n",
    "model_file_name='lenet_iter_10000.caffemodel'\n",
    "deploy_file = CAFFE_ROOT + '/examples/mnist/' + deploy_file_name\n",
    "model_file  = CAFFE_ROOT + '/examples/mnist/model/' + model_file_name\n",
    "print(deploy_file,model_file)"
   ]
  }
 ],
 "metadata": {
  "kernelspec": {
   "display_name": "Python 2",
   "language": "python",
   "name": "python2"
  },
  "language_info": {
   "codemirror_mode": {
    "name": "ipython",
    "version": 2
   },
   "file_extension": ".py",
   "mimetype": "text/x-python",
   "name": "python",
   "nbconvert_exporter": "python",
   "pygments_lexer": "ipython2",
   "version": "2.7.12"
  }
 },
 "nbformat": 4,
 "nbformat_minor": 2
}
