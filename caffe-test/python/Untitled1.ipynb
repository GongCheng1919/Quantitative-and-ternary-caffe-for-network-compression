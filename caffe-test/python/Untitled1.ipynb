{
 "cells": [
  {
   "cell_type": "code",
   "execution_count": 1,
   "metadata": {},
   "outputs": [],
   "source": [
    "import numpy as np\n",
    "%matplotlib inline\n",
    "import matplotlib.pyplot as plt\n",
    "import os,sys\n",
    "import caffe\n",
    "import os"
   ]
  },
  {
   "cell_type": "code",
   "execution_count": null,
   "metadata": {},
   "outputs": [],
   "source": [
    "#查看twns的权值\n",
    "TWNS_CAFFE_ROOT='/home/gongcheng/lab/TWNs/caffe-twns'\n",
    "twns_deploy_file_name='lenet_tn.prototxt'\n",
    "twns_model_file_name='lenet_tn_iter_10000.caffemodel'\n",
    "deploy_file = TWNS_CAFFE_ROOT + '/examples/mnist/' + twns_deploy_file_name\n",
    "model_file  = TWNS_CAFFE_ROOT + '/examples/mnist/models/' + twns_model_file_name\n",
    "print(deploy_file,model_file)\n",
    "net = caffe.Net(deploy_file,\n",
    "                model_file,\n",
    "                caffe.TEST)\n",
    "[(k, v[0].data.shape) for k, v in net.params.items()]"
   ]
  },
  {
   "cell_type": "code",
   "execution_count": null,
   "metadata": {},
   "outputs": [],
   "source": []
  }
 ],
 "metadata": {
  "kernelspec": {
   "display_name": "Python 2",
   "language": "python",
   "name": "python2"
  },
  "language_info": {
   "codemirror_mode": {
    "name": "ipython",
    "version": 2
   },
   "file_extension": ".py",
   "mimetype": "text/x-python",
   "name": "python",
   "nbconvert_exporter": "python",
   "pygments_lexer": "ipython2",
   "version": "2.7.12"
  }
 },
 "nbformat": 4,
 "nbformat_minor": 2
}
